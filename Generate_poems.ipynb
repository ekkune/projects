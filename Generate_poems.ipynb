{
  "nbformat": 4,
  "nbformat_minor": 0,
  "metadata": {
    "colab": {
      "provenance": [],
      "gpuType": "T4",
      "toc_visible": true,
      "authorship_tag": "ABX9TyM0xXmESLadmsq10y91nwWL",
      "include_colab_link": true
    },
    "kernelspec": {
      "name": "python3",
      "display_name": "Python 3"
    },
    "language_info": {
      "name": "python"
    },
    "accelerator": "GPU"
  },
  "cells": [
    {
      "cell_type": "markdown",
      "metadata": {
        "id": "view-in-github",
        "colab_type": "text"
      },
      "source": [
        "<a href=\"https://colab.research.google.com/github/ekkune/projects/blob/main/Generate_poems.ipynb\" target=\"_parent\"><img src=\"https://colab.research.google.com/assets/colab-badge.svg\" alt=\"Open In Colab\"/></a>"
      ]
    },
    {
      "cell_type": "code",
      "execution_count": null,
      "metadata": {
        "colab": {
          "base_uri": "https://localhost:8080/"
        },
        "id": "__4Qx_Af_ipH",
        "outputId": "761324ec-e772-4d5c-c23b-348a3dbd6359"
      },
      "outputs": [
        {
          "output_type": "execute_result",
          "data": {
            "text/plain": [
              "True"
            ]
          },
          "metadata": {},
          "execution_count": 5
        }
      ],
      "source": [
        "\n",
        "# Импорт библиотек\n",
        "import copy\n",
        "import torch\n",
        "import numpy as np\n",
        "import torch.nn as nn\n",
        "import torch.nn.functional as F\n",
        "import matplotlib.pyplot as plt\n",
        "\n",
        "from random import sample\n",
        "from IPython.display import clear_output\n",
        "from torch.utils.data import DataLoader, TensorDataset\n",
        "\n",
        "# Проверка доступности GPU\n",
        "torch.cuda.is_available()"
      ]
    },
    {
      "cell_type": "code",
      "source": [
        "!wget -O poems.txt http://uit.mpei.ru/git/main/TDA/raw/branch/master/assets/poems/mayakovskiy.txt\n"
      ],
      "metadata": {
        "colab": {
          "base_uri": "https://localhost:8080/"
        },
        "id": "MH57AXluAFyB",
        "outputId": "91c16374-e8e1-4b24-cc51-18e78b508769"
      },
      "execution_count": null,
      "outputs": [
        {
          "output_type": "stream",
          "name": "stdout",
          "text": [
            "--2025-04-24 04:24:49--  http://uit.mpei.ru/git/main/TDA/raw/branch/master/assets/poems/mayakovskiy.txt\n",
            "Resolving uit.mpei.ru (uit.mpei.ru)... 193.233.68.149\n",
            "Connecting to uit.mpei.ru (uit.mpei.ru)|193.233.68.149|:80... connected.\n",
            "HTTP request sent, awaiting response... 200 OK\n",
            "Length: 1466243 (1.4M) [text/plain]\n",
            "Saving to: ‘poems.txt’\n",
            "\n",
            "poems.txt           100%[===================>]   1.40M  1.85MB/s    in 0.8s    \n",
            "\n",
            "2025-04-24 04:24:51 (1.85 MB/s) - ‘poems.txt’ saved [1466243/1466243]\n",
            "\n"
          ]
        }
      ]
    },
    {
      "cell_type": "markdown",
      "source": [],
      "metadata": {
        "id": "BfVUpLMhAFMz"
      }
    },
    {
      "cell_type": "code",
      "source": [
        "with open(\"poems.txt\") as file:\n",
        "  print(1)\n",
        "  data = file.read().split(\"</s>\\n\\n\")\n",
        "print(f\"Количество стихов: {len(data)}\\n\", f\"Пример стиха:\\n\\n{data[0]}\",  sep=\"\\n\")"
      ],
      "metadata": {
        "colab": {
          "base_uri": "https://localhost:8080/"
        },
        "id": "Vy_hQUVxBFZF",
        "outputId": "db314450-4c5e-488d-d797-fe0d6248016b"
      },
      "execution_count": null,
      "outputs": [
        {
          "output_type": "stream",
          "name": "stdout",
          "text": [
            "1\n",
            "Количество стихов: 744\n",
            "\n",
            "Пример стиха:\n",
            "\n",
            "\n",
            "Угрюмый дождь скосил глаза.\n",
            "А за\n",
            "решеткой\n",
            "четкой\n",
            "железной мысли проводов —\n",
            "перина.\n",
            "И на\n",
            "нее\n",
            "встающих звезд\n",
            "легко оперлись ноги.\n",
            "Но ги —\n",
            "бель фонарей,\n",
            "царей\n",
            "в короне газа,\n",
            "для глаза\n",
            "сделала больней\n",
            "враждующий букет бульварных проституток.\n",
            "И жуток\n",
            "шуток\n",
            "клюющий смех —\n",
            "из желтых\n",
            "ядовитых роз\n",
            "возрос\n",
            "зигзагом.\n",
            "За гам\n",
            "и жуть\n",
            "взглянуть\n",
            "отрадно глазу:\n",
            "раба\n",
            "крестов\n",
            "страдающе-спокойно-безразличных,\n",
            "гроба\n",
            "домов\n",
            "публичных\n",
            "восток бросал в одну пылающую вазу.\n",
            "\n",
            "\n"
          ]
        }
      ]
    },
    {
      "cell_type": "code",
      "source": [
        "# Составляем словарь уникальных токенов\n",
        "vocab = [\"PAD\", \"EOS\",] + list(set(\"\".join(data))) #список уникальных символов.\n",
        "\n",
        "# Формируем два словаря, реализующие перевод символов в их индексы и обратно\n",
        "id2char = dict(enumerate(vocab)) #словарь индексов в символы\n",
        "char2id = {char: ind for ind, char in id2char.items()} #словарь символов в индексы\n",
        "print(f\"Количество уникальных символов: {len(vocab)}\", id2char, sep=\"\\n\")"
      ],
      "metadata": {
        "colab": {
          "base_uri": "https://localhost:8080/"
        },
        "id": "5TPFHqarCw-C",
        "outputId": "6dd2152d-f750-4c57-9b8c-7f43d6a5cd2d"
      },
      "execution_count": null,
      "outputs": [
        {
          "output_type": "stream",
          "name": "stdout",
          "text": [
            "Количество уникальных символов: 141\n",
            "{0: 'PAD', 1: 'EOS', 2: 'ц', 3: 'Е', 4: 'V', 5: '\\n', 6: 'm', 7: 'C', 8: 'г', 9: 'р', 10: 'ч', 11: ')', 12: '—', 13: 'Ч', 14: '·', 15: 'Г', 16: 'щ', 17: 'r', 18: 'R', 19: 'P', 20: 'z', 21: 'в', 22: 'м', 23: 'h', 24: 'Ф', 25: 'v', 26: 'з', 27: 'B', 28: 'М', 29: ' ', 30: 'о', 31: '>', 32: 'ъ', 33: ';', 34: 'ш', 35: 'д', 36: 'è', 37: 'G', 38: 'Э', 39: 'Z', 40: 'Н', 41: '&', 42: 'У', 43: 't', 44: 'Р', 45: 'p', 46: '/', 47: '\\xa0', 48: 'u', 49: 'w', 50: 'Щ', 51: 'П', 52: 'D', 53: 'т', 54: 'Ц', 55: '–', 56: 'U', 57: 'З', 58: 'у', 59: 'С', 60: 'A', 61: '.', 62: 'А', 63: 'ü', 64: '?', 65: 'й', 66: 'Ю', 67: '№', 68: 'Я', 69: 'Л', 70: '!', 71: 'Ы', 72: 'а', 73: 'ь', 74: 'à', 75: '»', 76: '%', 77: 'ф', 78: '<', 79: 'ö', 80: '’', 81: 'f', 82: ',', 83: '(', 84: 'c', 85: 'п', 86: 'О', 87: 'Б', 88: '\"', 89: '…', 90: 'к', 91: 'э', 92: 'l', 93: 'K', 94: 'M', 95: 'л', 96: '-', 97: 'n', 98: 'Й', 99: '́', 100: 'J', 101: 'e', 102: 'е', 103: 'Ь', 104: 'ж', 105: 'E', 106: 'o', 107: 'К', 108: 'Х', 109: '̀', 110: 's', 111: 'ё', 112: 'х', 113: 'X', 114: 'и', 115: 'O', 116: ':', 117: 'H', 118: 'j', 119: 'Ж', 120: 'я', 121: 'с', 122: 'S', 123: 'н', 124: 'Д', 125: 'g', 126: 'И', 127: 'b', 128: 'ç', 129: 'd', 130: 'ю', 131: 'В', 132: 'N', 133: 'a', 134: '«', 135: 'ы', 136: 'б', 137: 'Т', 138: 'I', 139: 'i', 140: 'Ш'}\n"
          ]
        }
      ]
    },
    {
      "cell_type": "code",
      "source": [
        "lengths = list(map(len, data))\n",
        "print(\"Максимальная длина текста: \", max(lengths))"
      ],
      "metadata": {
        "colab": {
          "base_uri": "https://localhost:8080/"
        },
        "id": "QIOYRICBC3IJ",
        "outputId": "522472c9-e7fb-43c6-f371-43bdad37f3de"
      },
      "execution_count": null,
      "outputs": [
        {
          "output_type": "stream",
          "name": "stdout",
          "text": [
            "Максимальная длина текста:  4175\n"
          ]
        }
      ]
    },
    {
      "cell_type": "code",
      "source": [
        "plt.rcParams[\"figure.figsize\"] = (14, 6)\n",
        "plt.hist(lengths, bins=30, range=[0, 6000])\n",
        "plt.xlabel(\"Длина текста в символах\")\n",
        "plt.title(\"Гистограмма длин текстов\")\n",
        "plt.grid()"
      ],
      "metadata": {
        "colab": {
          "base_uri": "https://localhost:8080/",
          "height": 464
        },
        "id": "1BktHAzLC63_",
        "outputId": "cfb68a34-cd30-4861-8cbb-4e721167b7d8"
      },
      "execution_count": null,
      "outputs": [
        {
          "output_type": "display_data",
          "data": {
            "text/plain": [
              "<Figure size 1400x600 with 1 Axes>"
            ],
            "image/png": "[encoded data removed]"
          },
          "metadata": {}
        }
      ]
    },
    {
      "cell_type": "code",
      "source": [
        "lengths = np.array(lengths)\n",
        "print(\"Средняя длина\", np.mean(lengths))\n",
        "print(\"Медиана длины\", np.median(lengths))\n",
        "print(\"Мода длины\", np.bincount(lengths).argmax())"
      ],
      "metadata": {
        "colab": {
          "base_uri": "https://localhost:8080/"
        },
        "id": "9f_D7S40C7lh",
        "outputId": "a6bb45f4-f3da-48c9-9c4f-e2ea88279e42"
      },
      "execution_count": null,
      "outputs": [
        {
          "output_type": "stream",
          "name": "stdout",
          "text": [
            "Средняя длина 1090.345430107527\n",
            "Медиана длины 953.5\n",
            "Мода длины 416\n"
          ]
        }
      ]
    },
    {
      "cell_type": "markdown",
      "source": [
        "#Вопрос 1\n",
        "\n",
        "Где можно будет использовать знание о параметрах распределения длин в выборке?\n",
        " 1. эти параметры помогают определить оптимальное значение MAXLEN — максимальной длины генерируемого текста. Использование медианной длины (в данном случае 954 символа) позволяет избегать как излишнего обрезания (если MAXLEN слишком мал), так и заполнения больших объемов бессмысленными токенами PAD (если MAXLEN слишком большой).\n",
        " 2. знание распределения длин способствует эффективной оптимизации вычислительных ресурсов: фиксированный размер входных данных упрощает процесс батчинга и снижает нагрузку на память GPU, исключая обработку аномально длинных текстов."
      ],
      "metadata": {
        "id": "sPi5woZQDD-a"
      }
    },
    {
      "cell_type": "code",
      "source": [
        "MAXLEN = 954"
      ],
      "metadata": {
        "id": "YCY-NNNpDbI1"
      },
      "execution_count": null,
      "outputs": []
    },
    {
      "cell_type": "code",
      "source": [
        "def to_matrix(data, char2id, max_len=None, dtype='int64', batch_first = True):\n",
        "\n",
        "    max_len = max_len if max_len else max(map(len, data))\n",
        "    data = [text[:max_len] for text in data]\n",
        "    data_ix = np.zeros([len(data), max_len+1], dtype)\n",
        "\n",
        "    for i in range(len(data)):\n",
        "        line_ix = [char2id[c] for c in data[i][:max_len]] + [char2id[\"EOS\"]]\n",
        "        data_ix[i, :len(line_ix)] = line_ix\n",
        "\n",
        "    if not batch_first: # convert [batch, time] into [time, batch]\n",
        "        data_ix = np.transpose(data_ix)\n",
        "\n",
        "    return data_ix"
      ],
      "metadata": {
        "id": "IjW8qK16DO6g"
      },
      "execution_count": null,
      "outputs": []
    },
    {
      "cell_type": "code",
      "source": [
        "encode = to_matrix(data[:1], char2id, MAXLEN)\n",
        "print(\"Исходный текст:\\n\", data[0])\n",
        "print(\"Преобразованный текст:\\n\", encode[0])"
      ],
      "metadata": {
        "colab": {
          "base_uri": "https://localhost:8080/"
        },
        "id": "v7jRUMaSDQpN",
        "outputId": "c1694d4c-6d23-4d5a-9891-98ea470705b5"
      },
      "execution_count": null,
      "outputs": [
        {
          "output_type": "stream",
          "name": "stdout",
          "text": [
            "Исходный текст:\n",
            " \n",
            "Угрюмый дождь скосил глаза.\n",
            "А за\n",
            "решеткой\n",
            "четкой\n",
            "железной мысли проводов —\n",
            "перина.\n",
            "И на\n",
            "нее\n",
            "встающих звезд\n",
            "легко оперлись ноги.\n",
            "Но ги —\n",
            "бель фонарей,\n",
            "царей\n",
            "в короне газа,\n",
            "для глаза\n",
            "сделала больней\n",
            "враждующий букет бульварных проституток.\n",
            "И жуток\n",
            "шуток\n",
            "клюющий смех —\n",
            "из желтых\n",
            "ядовитых роз\n",
            "возрос\n",
            "зигзагом.\n",
            "За гам\n",
            "и жуть\n",
            "взглянуть\n",
            "отрадно глазу:\n",
            "раба\n",
            "крестов\n",
            "страдающе-спокойно-безразличных,\n",
            "гроба\n",
            "домов\n",
            "публичных\n",
            "восток бросал в одну пылающую вазу.\n",
            "\n",
            "\n",
            "Преобразованный текст:\n",
            " [  5  42   8   9 130  22 135  65  29  35  30 104  35  73  29 121  90  30\n",
            " 121 114  95  29   8  95  72  26  72  61   5  62  29  26  72   5   9 102\n",
            "  34 102  53  90  30  65   5  10 102  53  90  30  65   5 104 102  95 102\n",
            "  26 123  30  65  29  22 135 121  95 114  29  85   9  30  21  30  35  30\n",
            "  21  29  12   5  85 102   9 114 123  72  61   5 126  29 123  72   5 123\n",
            " 102 102   5  21 121  53  72 130  16 114 112  29  26  21 102  26  35   5\n",
            "  95 102   8  90  30  29  30  85 102   9  95 114 121  73  29 123  30   8\n",
            " 114  61   5  40  30  29   8 114  47  12   5 136 102  95  73  29  77  30\n",
            " 123  72   9 102  65  82   5   2  72   9 102  65   5  21  29  90  30   9\n",
            "  30 123 102  29   8  72  26  72  82   5  35  95 120  29   8  95  72  26\n",
            "  72   5 121  35 102  95  72  95  72  29 136  30  95  73 123 102  65   5\n",
            "  21   9  72 104  35  58 130  16 114  65  29 136  58  90 102  53  29 136\n",
            "  58  95  73  21  72   9 123 135 112  29  85   9  30 121  53 114  53  58\n",
            "  53  30  90  61   5 126  29 104  58  53  30  90   5  34  58  53  30  90\n",
            "   5  90  95 130 130  16 114  65  29 121  22 102 112  29  12   5 114  26\n",
            "  29 104 102  95  53 135 112   5 120  35  30  21 114  53 135 112  29   9\n",
            "  30  26   5  21  30  26   9  30 121   5  26 114   8  26  72   8  30  22\n",
            "  61   5  57  72  29   8  72  22   5 114  29 104  58  53  73   5  21  26\n",
            "   8  95 120 123  58  53  73   5  30  53   9  72  35 123  30  29   8  95\n",
            "  72  26  58 116   5   9  72 136  72   5  90   9 102 121  53  30  21   5\n",
            " 121  53   9  72  35  72 130  16 102  96 121  85  30  90  30  65 123  30\n",
            "  96 136 102  26   9  72  26  95 114  10 123 135 112  82   5   8   9  30\n",
            " 136  72   5  35  30  22  30  21   5  85  58 136  95 114  10 123 135 112\n",
            "   5  21  30 121  53  30  90  29 136   9  30 121  72  95  29  21  29  30\n",
            "  35 123  58  29  85 135  95  72 130  16  58 130  29  21  72  26  58  61\n",
            "   5   5   1   0   0   0   0   0   0   0   0   0   0   0   0   0   0   0\n",
            "   0   0   0   0   0   0   0   0   0   0   0   0   0   0   0   0   0   0\n",
            "   0   0   0   0   0   0   0   0   0   0   0   0   0   0   0   0   0   0\n",
            "   0   0   0   0   0   0   0   0   0   0   0   0   0   0   0   0   0   0\n",
            "   0   0   0   0   0   0   0   0   0   0   0   0   0   0   0   0   0   0\n",
            "   0   0   0   0   0   0   0   0   0   0   0   0   0   0   0   0   0   0\n",
            "   0   0   0   0   0   0   0   0   0   0   0   0   0   0   0   0   0   0\n",
            "   0   0   0   0   0   0   0   0   0   0   0   0   0   0   0   0   0   0\n",
            "   0   0   0   0   0   0   0   0   0   0   0   0   0   0   0   0   0   0\n",
            "   0   0   0   0   0   0   0   0   0   0   0   0   0   0   0   0   0   0\n",
            "   0   0   0   0   0   0   0   0   0   0   0   0   0   0   0   0   0   0\n",
            "   0   0   0   0   0   0   0   0   0   0   0   0   0   0   0   0   0   0\n",
            "   0   0   0   0   0   0   0   0   0   0   0   0   0   0   0   0   0   0\n",
            "   0   0   0   0   0   0   0   0   0   0   0   0   0   0   0   0   0   0\n",
            "   0   0   0   0   0   0   0   0   0   0   0   0   0   0   0   0   0   0\n",
            "   0   0   0   0   0   0   0   0   0   0   0   0   0   0   0   0   0   0\n",
            "   0   0   0   0   0   0   0   0   0   0   0   0   0   0   0   0   0   0\n",
            "   0   0   0   0   0   0   0   0   0   0   0   0   0   0   0   0   0   0\n",
            "   0   0   0   0]\n"
          ]
        }
      ]
    },
    {
      "cell_type": "markdown",
      "source": [
        "#Вопрос 2\n",
        "\n",
        "Пояснить, что хранится в переменной encode.\n",
        "1. Каждая буква заменяется на своё число-идентификатор из специального словаря. Например, буква \"а\" может стать числом 35, пробел - числом 0 и так далее.\n",
        "2. Если текст короче максимальной длины (MAXLEN), компьютер дополняет его нулями (это как заполнители пустого места). Если длиннее - обрезает.\n",
        "\n",
        "3. В конце каждого текста добавляется специальная метка \"конец текста\"\n",
        "\n",
        "Как будет выглядеть ваша фамилия в кодированном виде?\n"
      ],
      "metadata": {
        "id": "4eIjSYWNEAKO"
      }
    },
    {
      "cell_type": "code",
      "source": [
        "line_ix1 = [char2id[c] for c in \"Ермакова\"]\n",
        "encode1 = to_matrix([\"Ермакова\"], char2id, MAXLEN)\n",
        "print(f\"Закодированный вид фамилии Ермакова: {line_ix1}\")"
      ],
      "metadata": {
        "colab": {
          "base_uri": "https://localhost:8080/"
        },
        "id": "GJ2EhCRhDT4e",
        "outputId": "c3867cbc-810c-4af2-ff4d-d5c9347e73b2"
      },
      "execution_count": null,
      "outputs": [
        {
          "output_type": "stream",
          "name": "stdout",
          "text": [
            "Закодированный вид фамилии Ермакова: [3, 9, 22, 72, 90, 30, 21, 72]\n"
          ]
        }
      ]
    },
    {
      "cell_type": "code",
      "source": [
        "num_embeddings = len(vocab) #количество эмбеддингов должно соответствовать длине словаря\n",
        "embedding_dim = 32 #определяется размерность эмбеддинга\n",
        "emb = nn.Embedding(num_embeddings, embedding_dim) # Определяем объект emb как слой эмбеддингов заданного размера"
      ],
      "metadata": {
        "id": "7_egyvzJD3XU"
      },
      "execution_count": null,
      "outputs": []
    },
    {
      "cell_type": "code",
      "source": [
        "num_embeddings"
      ],
      "metadata": {
        "colab": {
          "base_uri": "https://localhost:8080/"
        },
        "id": "7JUmjQesD5tq",
        "outputId": "5a11ed4b-e9c1-497a-8921-acd13948d1a6"
      },
      "execution_count": null,
      "outputs": [
        {
          "output_type": "execute_result",
          "data": {
            "text/plain": [
              "141"
            ]
          },
          "metadata": {},
          "execution_count": 37
        }
      ]
    },
    {
      "cell_type": "markdown",
      "source": [
        "#Вопрос 3\n",
        "\n",
        "Почему количество эмбеддингов должно соответствовать длине словаря?Количество эмбеддингов должно соответствовать длине словаря, поскольку каждый уникальный символ в словаре должен иметь собственное векторное представление. Если количество эмбеддингов будет меньше размера словаря, модель не сможет обработать часть символов из-за отсутствия соответствующих векторных представлений."
      ],
      "metadata": {
        "id": "YExk80COENYQ"
      }
    },
    {
      "cell_type": "code",
      "source": [
        "# emb_out - 5 первых символов в виде эмбедингов\n",
        "emb_out = emb(torch.tensor(encode[0][:5]))\n",
        "print(f\"Размер тензора: {emb_out.shape}\\n\")\n",
        "print(emb_out)"
      ],
      "metadata": {
        "colab": {
          "base_uri": "https://localhost:8080/"
        },
        "id": "jh14DOR_D61E",
        "outputId": "ba44c66e-3399-4685-f55a-0e470a183e45"
      },
      "execution_count": null,
      "outputs": [
        {
          "output_type": "stream",
          "name": "stdout",
          "text": [
            "Размер тензора: torch.Size([5, 32])\n",
            "\n",
            "tensor([[ 0.5966, -0.0315,  0.8875,  0.3052,  1.5840,  1.8285, -0.0896,  1.0506,\n",
            "          0.2390, -0.4987,  0.4264, -0.6963, -0.1236,  0.5578,  0.1727,  0.4785,\n",
            "          0.6919,  0.0441,  1.0979,  0.9106, -1.3201, -1.9447,  0.5688, -2.2261,\n",
            "         -1.6677, -1.4511,  1.6767,  1.3180,  0.9626, -0.8350, -0.0523, -0.3068],\n",
            "        [ 0.7967,  0.0218,  1.4804,  0.1634, -0.3798,  0.4756, -1.2696,  0.0845,\n",
            "         -1.3453,  0.1506, -1.2866,  2.1413, -0.1488, -0.4057, -0.2271, -0.9323,\n",
            "          0.5328,  0.9898, -0.8444, -0.1561,  0.3294,  2.1981,  0.7307,  0.9656,\n",
            "          0.0480, -1.0032, -1.6349, -0.3838,  0.3869,  0.6104, -0.2695, -0.4043],\n",
            "        [ 0.9747,  0.1304,  1.2064, -0.8794,  1.2356, -0.2199, -0.1455, -0.4009,\n",
            "          1.2009, -1.2933,  0.6169,  1.0923,  0.5840, -1.2237, -0.4142,  0.7810,\n",
            "          1.5990, -1.5623,  0.3552,  0.4104,  1.7072,  0.4124, -0.9112, -0.1272,\n",
            "         -1.6228,  1.2515, -0.3801,  0.3279,  0.2236,  0.4552, -0.7197,  0.9495],\n",
            "        [ 1.0417,  0.6107, -1.4413,  0.0721,  0.6517, -0.5202,  0.6069,  0.5500,\n",
            "         -1.0234, -0.9919, -0.8092, -0.5272, -0.0567, -0.6455,  0.4252, -0.9871,\n",
            "         -1.1488,  0.2378,  1.3234, -0.2053, -0.6757,  0.3787, -0.4365, -0.8916,\n",
            "          2.4365,  2.3924, -0.4694, -0.4065, -0.8525,  0.1053,  1.5000,  1.7511],\n",
            "        [-1.9461, -0.8678,  0.1090,  0.3249,  0.3140,  1.1490,  0.9293, -0.1354,\n",
            "         -1.1357,  0.9113,  0.1797,  1.1403, -0.4024, -1.0317,  0.1249,  0.2804,\n",
            "         -0.5823, -0.7541,  0.8995, -0.2171, -0.6738,  0.8534,  0.1468, -0.9919,\n",
            "         -0.4730,  2.1727, -0.7914,  0.7478, -0.2388,  1.7556,  0.9139, -1.7165]],\n",
            "       grad_fn=<EmbeddingBackward0>)\n"
          ]
        }
      ]
    },
    {
      "cell_type": "markdown",
      "source": [
        "#Вопрос 4\n",
        "\n",
        "Пояснить, почему получен такой размер emb_out?Определяется структурой входных данных и параметрами embedding-слоя. Первое значение (5) соответствует количеству подаваемых на вход символов (первые 5 индексов закодированного текста). Второе значение (32) задается параметром embedding_dim и представляет размерность векторного представления каждого символа."
      ],
      "metadata": {
        "id": "ohPwjByXEXCn"
      }
    },
    {
      "cell_type": "markdown",
      "source": [
        "#Вопрос 5 Обратиться к документации к nn.GRU и ответить на вопрос, за что отчечают параметры input_size, hidden_size, num_layers.\n",
        "\n",
        "input_size – Размерность входного вектора на каждом временном шаге.\n",
        "\n",
        "hidden_size – Размерность скрытого состояния (hidden state) GRU.\n",
        "\n",
        "num_layers – Количество рекуррентных слоёв GRU.\n"
      ],
      "metadata": {
        "id": "9kyHVyZIEX0U"
      }
    },
    {
      "cell_type": "code",
      "source": [
        "# Определяем ячейку GRU в переменной gru, предварительно задав рамерность скрытого состояния и количество рекуррентных слоев\n",
        "input_size = emb.embedding_dim # вход в GRU должен соответствовать размеру эмбеддинга\n",
        "hidden_size = 256 #<your choice here>\n",
        "num_layers = 2 #<your choice here>\n",
        "gru = nn.GRU(input_size, hidden_size, num_layers)\n",
        "output, h_n = gru(emb_out)\n",
        "print(\"Размер output:\", output.shape)\n",
        "print(\"Размер h_n:\", h_n.shape)"
      ],
      "metadata": {
        "colab": {
          "base_uri": "https://localhost:8080/"
        },
        "id": "JdfwDU2MEsFY",
        "outputId": "787d4810-ce16-4193-a6dd-5aea47c5460c"
      },
      "execution_count": null,
      "outputs": [
        {
          "output_type": "stream",
          "name": "stdout",
          "text": [
            "Размер output: torch.Size([5, 256])\n",
            "Размер h_n: torch.Size([2, 256])\n"
          ]
        }
      ]
    },
    {
      "cell_type": "code",
      "source": [
        "in_features = gru.hidden_size\n",
        "out_features = len(vocab) #предсказываем букву из всего словаря\n",
        "linear = nn.Linear(in_features, out_features) # Определяем линейный слой. Почему заданы такие входные и выходные параметры для него?\n",
        "linear_out = linear(output) # output - выход GRU\n",
        "print(\"Размер выходного слоя из нейросети: \", linear_out.shape)"
      ],
      "metadata": {
        "colab": {
          "base_uri": "https://localhost:8080/"
        },
        "id": "U8Vc-ac5EwuJ",
        "outputId": "b5fe80b9-c144-4465-8d35-18441a47613a"
      },
      "execution_count": null,
      "outputs": [
        {
          "output_type": "stream",
          "name": "stdout",
          "text": [
            "Размер выходного слоя из нейросети:  torch.Size([5, 141])\n"
          ]
        }
      ]
    },
    {
      "cell_type": "code",
      "source": [
        "print(linear_out)"
      ],
      "metadata": {
        "colab": {
          "base_uri": "https://localhost:8080/",
          "height": 141
        },
        "id": "iEyKcHL5mU1k",
        "outputId": "b5c00110-1df9-4372-8518-042c77b96e1c"
      },
      "execution_count": null,
      "outputs": [
        {
          "output_type": "error",
          "ename": "NameError",
          "evalue": "name 'linear_out' is not defined",
          "traceback": [
            "\u001b[0;31m---------------------------------------------------------------------------\u001b[0m",
            "\u001b[0;31mNameError\u001b[0m                                 Traceback (most recent call last)",
            "\u001b[0;32m<ipython-input-1-a5acb844381a>\u001b[0m in \u001b[0;36m<cell line: 0>\u001b[0;34m()\u001b[0m\n\u001b[0;32m----> 1\u001b[0;31m \u001b[0mprint\u001b[0m\u001b[0;34m(\u001b[0m\u001b[0mlinear_out\u001b[0m\u001b[0;34m)\u001b[0m\u001b[0;34m\u001b[0m\u001b[0;34m\u001b[0m\u001b[0m\n\u001b[0m",
            "\u001b[0;31mNameError\u001b[0m: name 'linear_out' is not defined"
          ]
        }
      ]
    },
    {
      "cell_type": "markdown",
      "source": [
        "#Вопрос 6\n",
        "\n",
        "Что содержится в векторе linear_out?\n",
        "\n",
        "Определить индекс символа, который наиболее вероятно выдаст ячейка GRU на первом шаге?\n",
        "Вектор linear_out содержит сырые оценки для каждого символа из словаря перед применением функции активации softmax. На первом шаге работы GRU-ячейки индекс наиболее вероятного символа определяется через torch.argmax(linear_out[0]), где выбирается позиция с максимальным значением логита. Этот индекс преобразуется в конкретный символ с помощью словаря id2char."
      ],
      "metadata": {
        "id": "ZAjOdKvoE33t"
      }
    },
    {
      "cell_type": "code",
      "source": [
        "next_char_idx = torch.argmax(linear_out[0]).item()\n",
        "print(f\"Индекс символа: {next_char_idx}\")\n",
        "print(f\"Символ: {id2char[next_char_idx]}\")"
      ],
      "metadata": {
        "colab": {
          "base_uri": "https://localhost:8080/"
        },
        "id": "VurZd-VbE3Z5",
        "outputId": "3918b5fd-29e9-4c82-a815-d9f4f93a1d06"
      },
      "execution_count": null,
      "outputs": [
        {
          "output_type": "stream",
          "name": "stdout",
          "text": [
            "Индекс символа: 51\n",
            "Символ: П\n"
          ]
        }
      ]
    },
    {
      "cell_type": "code",
      "source": [
        "class CharGRULoop(nn.Module): # Описываем инициализатор класса.\n",
        "    def __init__(self, num_embeddings=52, embedding_dim=16, hidden_size=64, num_layers=1): # В методе __init__ определим архитектуру модели, создав необходимые слои\n",
        "        super(self.__class__, self).__init__()\n",
        "        self.emb = nn.Embedding(num_embeddings, embedding_dim)\n",
        "        self.gru = nn.GRU(embedding_dim, hidden_size, num_layers, batch_first=True)\n",
        "        self.hid_to_logits = nn.Linear(hidden_size, num_embeddings)\n",
        "\n",
        "    def forward(self, x, hid_state): # Здесь описываем стурктуру сети - как сигнал должен по ней проходить\n",
        "        x = self.emb(x) # Проходим через эмбеддинг-слой\n",
        "        if hid_state is not None: # Проходим через GRU, сохраняя hidden state\n",
        "            h_seq, hid_state = self.gru(x, hid_state)\n",
        "        else:\n",
        "            h_seq, hid_state = self.gru(x)\n",
        "        next_logits = self.hid_to_logits(h_seq) # проходим через полносвязный слой\n",
        "        next_logp = F.log_softmax(next_logits, dim=-1) # Используем функцию softmax\n",
        "        return next_logp, hid_state"
      ],
      "metadata": {
        "id": "bZxn87tdFAZB"
      },
      "execution_count": null,
      "outputs": []
    },
    {
      "cell_type": "code",
      "source": [
        "model = CharGRULoop(num_embeddings=len(vocab), embedding_dim=64, hidden_size=192, num_layers=2)\n",
        "#<your choice here> Можно попробовать создать сеть с другими значениями параметров"
      ],
      "metadata": {
        "id": "z9PM5sOaFEgw"
      },
      "execution_count": null,
      "outputs": []
    },
    {
      "cell_type": "code",
      "source": [
        "!pip -q install torchinfo"
      ],
      "metadata": {
        "id": "dq1jTGjoFJYs"
      },
      "execution_count": null,
      "outputs": []
    },
    {
      "cell_type": "code",
      "source": [
        "from torchinfo import summary\n",
        "\n",
        "summary(model)"
      ],
      "metadata": {
        "colab": {
          "base_uri": "https://localhost:8080/"
        },
        "id": "tPXIq8v3FKeR",
        "outputId": "f82e66dc-861a-41d2-9a1d-cbfd672dde78"
      },
      "execution_count": null,
      "outputs": [
        {
          "output_type": "execute_result",
          "data": {
            "text/plain": [
              "=================================================================\n",
              "Layer (type:depth-idx)                   Param #\n",
              "=================================================================\n",
              "CharGRULoop                              --\n",
              "├─Embedding: 1-1                         9,024\n",
              "├─GRU: 1-2                               370,944\n",
              "├─Linear: 1-3                            27,213\n",
              "=================================================================\n",
              "Total params: 407,181\n",
              "Trainable params: 407,181\n",
              "Non-trainable params: 0\n",
              "================================================================="
            ]
          },
          "metadata": {},
          "execution_count": 46
        }
      ]
    },
    {
      "cell_type": "code",
      "source": [
        "def generate_sample(model, char2id, id2char, seed_phrase=' ', strategy=\"greedy\", max_length=100, temperature=1.0):\n",
        "    \"\"\"\n",
        "      model - нейросеть\n",
        "      char2id - словарь преобразования букв в их индексы\n",
        "      id2char - словарь преобразования индексов в буквы\n",
        "      seed_phrase - начальная фраза для генерации\n",
        "      strategy - стратегия генерации (жадная \"greedy\" или сэмплирование \"sample\")\n",
        "      max_length - максимальная длина сгенирированного текста\n",
        "      temperature - ???\n",
        "    \"\"\"\n",
        "\n",
        "    x_sequence = [char2id[token] for token in seed_phrase] # кодируем начальную фразу\n",
        "    x_sequence = torch.tensor([x_sequence], dtype=torch.int64) # создаем тензор\n",
        "    hid_state = None # задаем тензор скрытого состояния h_n, при такой подачи вектор заполнится нулями\n",
        "\n",
        "    with torch.no_grad(): # отключаем подсчет градиентов, поскольку сеть уже обучена и не нужно проводить обратное распространение ошибки\n",
        "      for i in range(len(seed_phrase) - 1): # подаем номер буквы и hid_state в цикле\n",
        "          _, hid_state = model(x_sequence[:, i].unsqueeze(0), hid_state)\n",
        "\n",
        "      # начинаем генерацию\n",
        "      for _ in range(max_length - len(seed_phrase)):\n",
        "\n",
        "          logp_next, hid_state = model(x_sequence[:, -1].unsqueeze(0), hid_state) # подаем последнюю букву из фразы\n",
        "          p_next = F.softmax(logp_next / temperature, dim=-1).data.numpy()[0] # нормируем выходы модели на температуру и применяем софтмакс\n",
        "\n",
        "          if strategy == \"greedy\": next_ix = p_next.argmax() #берем токен с максимальной вероятностью\n",
        "          elif strategy == \"sample\": next_ix = np.random.choice(len(id2char), p=p_next[0]) #получаем следующий токен сэмплированием с вероятностями\n",
        "          else: raise ValueError('Хулиган, не делай так! Выбери \"greedy\" или \"sample\"')\n",
        "\n",
        "          if id2char[next_ix] == \"EOS\": break # если получили токен EOS, то прекращаем генерацию\n",
        "          else:\n",
        "            next_ix = torch.tensor([[next_ix]], dtype=torch.int64) # создаем тензор следующий буквы\n",
        "            x_sequence = torch.cat([x_sequence, next_ix], dim=1) # добавляем предсказанный токен в конец последовательности\n",
        "\n",
        "    return ''.join([id2char[ix] for ix in x_sequence.data.numpy()[0]]) # возвращаем декодированную строку"
      ],
      "metadata": {
        "id": "HExd_AcvFO-w"
      },
      "execution_count": null,
      "outputs": []
    },
    {
      "cell_type": "markdown",
      "source": [
        "#Вопрос 7\n",
        "Выполните следующую ячейку несколько раз с одной и той же SEED_PHRASE, запомните выводы модели и объясните результат - чем отличается стратегия greedy от sample?"
      ],
      "metadata": {
        "id": "xgVklSz6FSEG"
      }
    },
    {
      "cell_type": "code",
      "source": [
        "SEED_PHRASE = 'а может руки под simintech заточены!\\n' # Ну или что-то другое\n",
        "print(generate_sample(model, char2id, id2char, seed_phrase=SEED_PHRASE, strategy=\"greedy\", max_length=100))\n",
        "print(\"-------------------------------------\")\n",
        "print(generate_sample(model, char2id, id2char, seed_phrase=SEED_PHRASE, strategy=\"sample\", max_length=100))"
      ],
      "metadata": {
        "colab": {
          "base_uri": "https://localhost:8080/"
        },
        "id": "T-cHE2rjFeQZ",
        "outputId": "b9828563-0057-4c51-8d45-910db331f1c1"
      },
      "execution_count": null,
      "outputs": [
        {
          "output_type": "stream",
          "name": "stdout",
          "text": [
            "а может руки под simintech заточены!\n",
            "EEEEEEEEEEEEEEEEEEEEEEEEEEEEEEEEEEEEEEEEEEEEEEEEEEEEEEEEEEEEEEE\n",
            "-------------------------------------\n",
            "а может руки под simintech заточены!\n",
            "HхЮящ:èД·i’N№RP«mCROЬrsgЕfHд–\n",
            "Х\",рoдС\n"
          ]
        }
      ]
    },
    {
      "cell_type": "markdown",
      "source": [
        "а может руки под simintech заточены!\n",
        "EEEEEEEEEEEEEEEEEEEEEEEEEEEEEEEEEEEEEEEEEEEEEEEEEEEEEEEEEEEEEEE\n",
        "-------------------------------------\n",
        "а может руки под simintech заточены!\n",
        "ЕДdAгЯм!?Ц>мl!vчhf)RSO—(<ёдоиЬъANвcЖttэтГЫлщЮЕДп:dфnдддд№ЧКHшАБ"
      ],
      "metadata": {
        "id": "AClvY-pxF2vq"
      }
    },
    {
      "cell_type": "markdown",
      "source": [
        "а может руки под simintech заточены!\n",
        "EEEEEEEEEEEEEEEEEEEEEEEEEEEEEEEEEEEEEEEEEEEEEEEEEEEEEEEEEEEEEEE\n",
        "-------------------------------------\n",
        "а может руки под simintech заточены!\n",
        "ью.VьzHçФ№ЛгH;/рHеДС·ЫbHщИzzЦМЧ\"oЙV%. ZяъХDRцЯсы эfЦЛЩOiGъCоBgn"
      ],
      "metadata": {
        "id": "Fay_zZ-QF3qV"
      }
    },
    {
      "cell_type": "markdown",
      "source": [
        "а может руки под simintech заточены!\n",
        "EEEEEEEEEEEEEEEEEEEEEEEEEEEEEEEEEEEEEEEEEEEEEEEEEEEEEEEEEEEEEEE\n",
        "-------------------------------------\n",
        "а может руки под simintech заточены!\n",
        "HхЮящ:èД·i’N№RP«mCROЬrsgЕfHд–\n",
        "Х\",рoдС"
      ],
      "metadata": {
        "id": "krwJIR2hF-yn"
      }
    },
    {
      "cell_type": "markdown",
      "source": [
        "Стратегия \"greedy\" выбирает на каждом шаге наиболее вероятный символ, что может приводить к повторяющимся и зацикленным результатам. Стратегия \"sample\" выбирает символы на основе распределения вероятностей, что делает текст более разнообразным, но иногда менее осмысленным."
      ],
      "metadata": {
        "id": "m6ZTX2mLGDMZ"
      }
    },
    {
      "cell_type": "code",
      "source": [
        "from sklearn.model_selection import train_test_split\n",
        "\n",
        "batch = 128 # Тексты, для уменьшения накладных расходов, будем подавать на вход модели \"батчами\" - блоками по 128 документов\n",
        "\n",
        "train, test = train_test_split(data, test_size=0.2, random_state=42, shuffle=True)\n",
        "\n",
        "dataset_train = TensorDataset(torch.tensor(to_matrix(train, char2id, max_len=MAXLEN)))\n",
        "dataloader_train = DataLoader(dataset_train, batch_size=batch, shuffle=True)\n",
        "\n",
        "dataset_test = TensorDataset(torch.tensor(to_matrix(test, char2id, max_len=MAXLEN)))\n",
        "dataloader_test = DataLoader(dataset_test, batch_size=batch, shuffle=False)"
      ],
      "metadata": {
        "id": "Y5Sl1AFyF_4g"
      },
      "execution_count": null,
      "outputs": []
    },
    {
      "cell_type": "code",
      "source": [
        "model = CharGRULoop(num_embeddings=len(vocab), embedding_dim=64, hidden_size=256, num_layers=3)\n",
        "optimizer = torch.optim.Adam(model.parameters(), lr=0.001)\n",
        "loss_fn = nn.NLLLoss(ignore_index=char2id[\"PAD\"])\n",
        "# Функция потерь - negative log likelihood loss (NLL Loss) - используеся для задачи многоклассовой классификации в ситуации, когда имеются логарифмы вероятностей каждого класса\n",
        "# NLL Loss эквивалентен CrossEntropyLoss, но применяется к логарифмам вероятностей - у нас на выходе линейного слоя как раз исопользуется функция softmax\n",
        "\n",
        "summary(model)"
      ],
      "metadata": {
        "colab": {
          "base_uri": "https://localhost:8080/"
        },
        "id": "GB3I5tncGL-l",
        "outputId": "0e4cc211-cdfa-4cce-8a80-9f3baf0af4a7"
      },
      "execution_count": null,
      "outputs": [
        {
          "output_type": "execute_result",
          "data": {
            "text/plain": [
              "=================================================================\n",
              "Layer (type:depth-idx)                   Param #\n",
              "=================================================================\n",
              "CharGRULoop                              --\n",
              "├─Embedding: 1-1                         9,024\n",
              "├─GRU: 1-2                               1,036,800\n",
              "├─Linear: 1-3                            36,237\n",
              "=================================================================\n",
              "Total params: 1,082,061\n",
              "Trainable params: 1,082,061\n",
              "Non-trainable params: 0\n",
              "================================================================="
            ]
          },
          "metadata": {},
          "execution_count": 52
        }
      ]
    },
    {
      "cell_type": "code",
      "source": [
        "train[:1]"
      ],
      "metadata": {
        "colab": {
          "base_uri": "https://localhost:8080/"
        },
        "id": "XrIPrx3UGOWu",
        "outputId": "a99c772b-a49b-4c88-9e3e-bc7292a18704"
      },
      "execution_count": null,
      "outputs": [
        {
          "output_type": "execute_result",
          "data": {
            "text/plain": [
              "['\\nАх ты, паук,\\nах ты, вошь!\\nСам знаешь, что врешь.\\nЕсли власть советская\\nстрога насчет налога,\\nто оттого,\\nчто у нее\\nтрат много.\\nЕсли б налог\\nне собрали с крестьянского люда,\\nэти вот семена\\nвзялись бы откуда?\\nПусть только хлеб уродится,\\nим\\nс благодарностью\\nналог сдадим.\\nЭто ваш\\nмародерский класс\\nна коммунистов натравливает нас:\\nмол, бандитов поддержи,\\nАнтонова поддержи —\\nи будут\\nамбары\\nломиться от ржи.\\nА как беда стряслась,\\nкто из беды выручил нас?\\nАнтонов помог?\\nЭсеры накормили всласть?\\nПомогла одна\\nРабоче-крестьянская власть.\\nСловом,\\nдругого разговора\\nнету.\\nДа здравствует власть Советов!\\n\\n']"
            ]
          },
          "metadata": {},
          "execution_count": 53
        }
      ]
    },
    {
      "cell_type": "code",
      "source": [
        "example = torch.tensor(to_matrix(train[:1], char2id, max_len=MAXLEN)) # Возьмем первый документ и попробуем сгененировать этот же текст начиная с первой буквы\n",
        "\n",
        "train_example = example[:, :-1]\n",
        "target_example = example[:, 1:]\n",
        "\n",
        "next_logp, hid_state = model(train_example, hid_state=None)\n",
        "\n",
        "print('perplexity: ', torch.exp(loss_fn(next_logp.permute(0, 2, 1), target_example)).item())"
      ],
      "metadata": {
        "colab": {
          "base_uri": "https://localhost:8080/"
        },
        "id": "qnICvl3dGQ65",
        "outputId": "cf8c12bc-d10f-41b9-de53-9d8d7bd0af40"
      },
      "execution_count": null,
      "outputs": [
        {
          "output_type": "stream",
          "name": "stdout",
          "text": [
            "perplexity:  141.40211486816406\n"
          ]
        }
      ]
    },
    {
      "cell_type": "code",
      "source": [
        "device = torch.device(\"cuda\") if torch.cuda.is_available() else torch.device(\"cpu\")\n",
        "torch.cuda.empty_cache()"
      ],
      "metadata": {
        "id": "b0QKUEtGGUpo"
      },
      "execution_count": null,
      "outputs": []
    },
    {
      "cell_type": "code",
      "source": [
        "EPOCH = 100 # количество эпох обучения\n",
        "history_train = [] # список значений лосса трейна на каждой эпохи\n",
        "history_test = [] # список значений лосса теста на каждой эпохи\n",
        "model.to(device) # И модель, и данные должны находиться на одном устройстве.\n",
        "                 # Поэтому при работе с GPU нужно следить и явно указывать, на каком устройстве проводится работа.\n",
        "\n",
        "\n",
        "best_test_loss = float(\"inf\")\n",
        "for i in range(EPOCH): #цикл по эпохам\n",
        "\n",
        "  loss_test = 0\n",
        "  loss_train = 0\n",
        "\n",
        "  for batch in dataloader_train: #цикл по тренировачным батчам\n",
        "\n",
        "    optimizer.zero_grad() #обнуляем градиенты\n",
        "    batch_ix = torch.tensor(batch[0], dtype=torch.int64).to(device) #делаем из батча тензор\n",
        "\n",
        "    predictions_logp, _ = model(batch_ix[:, :-1], hid_state=None) #подаем батч в модель\n",
        "\n",
        "    actual_next_tokens = batch_ix[:, 1:] # таргеры\n",
        "\n",
        "    loss = loss_fn(predictions_logp.permute(0, 2, 1), actual_next_tokens.long()) # считаем лосс на батче\n",
        "    loss_train += loss.item() # добавляем лосс с батча в суммарный лосс\n",
        "\n",
        "    loss.backward() # делаем обратный проход\n",
        "    optimizer.step() # делаем шаг оптимизатором\n",
        "\n",
        "  history_train.append(loss_train/len(dataloader_train)) # добавляем  средний лосс за эпоху в список\n",
        "\n",
        "  for batch in dataloader_test: #цикл по тестовым батчам\n",
        "    with torch.no_grad(): # отключаем подсчет градиентов\n",
        "\n",
        "      batch_ix = torch.tensor(batch[0], dtype=torch.int64).to(device)\n",
        "      predictions_logp, _ = model(batch_ix[:, :-1], hid_state=None)\n",
        "\n",
        "      actual_next_tokens = batch_ix[:, 1:]\n",
        "\n",
        "      loss = loss_fn(predictions_logp.permute(0, 2, 1), actual_next_tokens.long())\n",
        "      loss_test += loss.item()\n",
        "\n",
        "  loss_test = loss_test/len(dataloader_test)\n",
        "  history_test.append(loss_test)\n",
        "\n",
        "  if loss_test < best_test_loss: #сохраняем лучшую модель по лоссу на тесте\n",
        "    best_test_loss = loss_test\n",
        "    best_model = copy.deepcopy(model)\n",
        "    best_model.to(\"cpu\")\n",
        "\n",
        "  if (i + 1) % 5 == 0: # выводим график лосса каждые 5 эпох\n",
        "    clear_output(True)\n",
        "    plt.plot(history_train, label='loss_train')\n",
        "    plt.plot(history_test, label='loss_test')\n",
        "    plt.grid()\n",
        "    plt.legend()\n",
        "    plt.show()"
      ],
      "metadata": {
        "colab": {
          "base_uri": "https://localhost:8080/",
          "height": 432
        },
        "id": "wn4PG1WTGS6H",
        "outputId": "24ce2d10-5029-46f6-c494-fd2a5e09db21"
      },
      "execution_count": null,
      "outputs": [
        {
          "output_type": "display_data",
          "data": {
            "text/plain": [
              "<Figure size 1400x600 with 1 Axes>"
            ],
            "image/png": "[encoded data removed]"
          },
          "metadata": {}
        }
      ]
    },
    {
      "cell_type": "markdown",
      "source": [
        "#Вопрос8\n",
        "Достаточно ли обучилась модель? Имеет ли смысл изменить количество эпох обучения?\n",
        "Модель достаточно обучилась, так как значения перплексии на тестовых данных стабилизировались. Увеличение количества эпох может не дать значительного улучшения, так как модель уже достигла плато."
      ],
      "metadata": {
        "id": "wgK3RmbbGuf-"
      }
    },
    {
      "cell_type": "code",
      "source": [
        "print(\"perplexity (best model test): \", np.exp(best_test_loss))\n",
        "print(\"perplexity (last epoch test): \", np.exp(loss_test))"
      ],
      "metadata": {
        "colab": {
          "base_uri": "https://localhost:8080/"
        },
        "id": "wvH4KkUBGYlp",
        "outputId": "392d8daa-0305-4d9b-fa12-7e12edc5b186"
      },
      "execution_count": null,
      "outputs": [
        {
          "output_type": "stream",
          "name": "stdout",
          "text": [
            "perplexity (best model test):  10.02926722222079\n",
            "perplexity (last epoch test):  10.174358781980706\n"
          ]
        }
      ]
    },
    {
      "cell_type": "code",
      "source": [
        "SEED_PHRASE = 'а может руки под simintech заточены'"
      ],
      "metadata": {
        "id": "RP0IvlMeG7uJ"
      },
      "execution_count": null,
      "outputs": []
    },
    {
      "cell_type": "code",
      "source": [
        "print(generate_sample(best_model, char2id, id2char, seed_phrase=SEED_PHRASE, strategy=\"sample\", max_length=MAXLEN))"
      ],
      "metadata": {
        "colab": {
          "base_uri": "https://localhost:8080/"
        },
        "id": "SXrrztjVHDub",
        "outputId": "e2deb7ee-e394-455d-a122-fe405f3714c1"
      },
      "execution_count": null,
      "outputs": [
        {
          "output_type": "stream",
          "name": "stdout",
          "text": [
            "а может руки под simintech заточены,\n",
            "одстен заясов, рожки\n",
            "под уштов\n",
            "как нус.\n",
            "Совете прярежчая Мошиты.\n",
            "На бымко не мар!\n",
            "Схрередотов Ноплась хвалицы.\n",
            "Потореиноз\n",
            "бараней,\n",
            "сарой спелы…\n",
            "Проидный\n",
            "камдеркриваем\n",
            "с ихаёма\n",
            "и нешет,\n",
            "суеты\n",
            "им паель,\n",
            "вак\n",
            "не в морсть лликов,\n",
            "а кон насхит\n",
            "на на стуваето.\n",
            "Вы\n",
            "живят все?\n",
            "Нет\n",
            "нахокохой.\n",
            "В говроя\n",
            "соеманщаврогнипки? —\n",
            "\n",
            "Покнул Нуспузой\n",
            "дорижся бребеет —\n",
            "Куды моргвак\n",
            "у засвое очетом\n",
            "таять я наботу\n",
            "узволит\n",
            "у какорой.\n",
            "Квиссе-шиго\n",
            "деравь осегямны.\n",
            "Менентила обедит, страчного\n",
            "и коших отлано,\n",
            "пеен онбастыщи.\n",
            "Мир.\n",
            "Вывидит\n",
            "он насьяшья,\n",
            "вчерлая с кресни!\n",
            "Трон —\n",
            "гут, стуками нам Эна — Фен\n",
            "понплеет\n",
            "снова —\n",
            "парнвой ТойКки код? —\n",
            "Так\n",
            "увет\n",
            "не равнает\n",
            "не под прокоска\n",
            "про\n"
          ]
        }
      ]
    },
    {
      "cell_type": "code",
      "source": [
        "print(generate_sample(best_model, char2id, id2char, seed_phrase=SEED_PHRASE, strategy=\"greedy\", max_length=MAXLEN))"
      ],
      "metadata": {
        "colab": {
          "base_uri": "https://localhost:8080/"
        },
        "id": "mff3oBf2HJq1",
        "outputId": "637a5afc-7104-4b78-fed0-b9b3f06745b8"
      },
      "execution_count": null,
      "outputs": [
        {
          "output_type": "stream",
          "name": "stdout",
          "text": [
            "а может руки под simintech заточены.\n",
            "В стали в стали в стали в стали в стали.\n",
            "В стали в стали в стали в стали в стали.\n",
            "В стали в стали в стали в стали в стали.\n",
            "В стали в стали в стали в стали в стали.\n",
            "В стали в стали в стали в стали в стали.\n",
            "В стали в стали в стали в стали в стали.\n",
            "В стали в стали в стали в стали в стали.\n",
            "В стали в стали в стали в стали в стали.\n",
            "В стали в стали в стали в стали в стали.\n",
            "В стали в стали в стали в стали в стали.\n",
            "В стали в стали в стали в стали в стали.\n",
            "В стали в стали в стали в стали в стали.\n",
            "В стали в стали в стали в стали в стали.\n",
            "В стали в стали в стали в стали в стали.\n",
            "В стали в стали в стали в стали в стали.\n",
            "В стали в стали в стали в стали в стали.\n",
            "В стали в стали в стали в стали в стали.\n",
            "В стали в стали в стали в стали —\n",
            "на стали \n"
          ]
        }
      ]
    },
    {
      "cell_type": "markdown",
      "source": [
        "#Вопрос 9\n",
        "\n",
        "Сделайте выводы как влияет изменение температуры на генерацию текста.\n",
        "\n",
        "Выберите оптимальное значение температуры\n",
        "Температура влияет на случайность выбора символов: при высокой температуре текст становится более разнообразным, но менее предсказуемым, при низкой — более консервативным. Оптимальное 0.5"
      ],
      "metadata": {
        "id": "zTZukSjqHSZE"
      }
    },
    {
      "cell_type": "code",
      "source": [
        "nice_strategy = \"sample\""
      ],
      "metadata": {
        "id": "0QZxgqdZHWnV"
      },
      "execution_count": null,
      "outputs": []
    },
    {
      "cell_type": "code",
      "source": [
        "print(generate_sample(best_model, char2id, id2char, seed_phrase=SEED_PHRASE, strategy=nice_strategy, max_length=MAXLEN, temperature=2.0))"
      ],
      "metadata": {
        "colab": {
          "base_uri": "https://localhost:8080/"
        },
        "id": "iunNju2JHOlw",
        "outputId": "4d2e43f7-0be0-4ae5-ea3d-b57350b3fa00"
      },
      "execution_count": null,
      "outputs": [
        {
          "output_type": "stream",
          "name": "stdout",
          "text": [
            "а может руки под simintech заточены́,\n",
            "(паре\n",
            "Опих-.вдала… Цечкках\n",
            "урПикон?\n",
            "УP!\n",
            "\n",
            "ЦипиниNчы,\n",
            "ЯЦък\n",
            "зvборров«уймепшю,м. гри́м\n",
            "ямкаЮдn!»ж.\n"
          ]
        }
      ]
    },
    {
      "cell_type": "code",
      "source": [
        "print(generate_sample(best_model, char2id, id2char, seed_phrase=SEED_PHRASE, strategy=nice_strategy, max_length=MAXLEN, temperature=0.1))"
      ],
      "metadata": {
        "colab": {
          "base_uri": "https://localhost:8080/"
        },
        "id": "p7VVha2mHa3D",
        "outputId": "0dcb7eac-3272-40a6-f7e6-934749852291"
      },
      "execution_count": null,
      "outputs": [
        {
          "output_type": "stream",
          "name": "stdout",
          "text": [
            "а может руки под simintech заточены.\n",
            "В стали в под на водов\n",
            "стали в стали в старами стали\n",
            "в стали в стали.\n",
            "На стали в стали —\n",
            "на стали в стали в под стали.\n",
            "В стали в стали в стали,\n",
            "в стали в под стали —\n",
            "на под советский водов\n",
            "под стали в стали —\n",
            "на стали в стали,\n",
            "на стали в стали —\n",
            "в стали в стали,\n",
            "на стали в стали\n",
            "в стали в стара.\n",
            "В стали в стали,\n",
            "на стали в стали —\n",
            "на стали соворова.\n",
            "Под стали —\n",
            "на стали в стали —\n",
            "в под сомета —\n",
            "на стали в стали соворота.\n",
            "Порадит советский стали.\n",
            "Под на стали в под стали,\n",
            "на стали в под стали —\n",
            "на стали в стали,\n",
            "на стали в сторовать в стали —\n",
            "на стали в стали в стали —\n",
            "на стали в стали в соморовой стали.\n",
            "В стали в под стались в стали в стались с под на под на стали —\n",
            "в стали в под на стали,\n",
            "на стали в стали в стали —\n",
            "на стали в ста\n"
          ]
        }
      ]
    },
    {
      "cell_type": "code",
      "source": [
        "print(generate_sample(best_model, char2id, id2char, seed_phrase=SEED_PHRASE, strategy=nice_strategy, max_length=MAXLEN, temperature=0.5))"
      ],
      "metadata": {
        "colab": {
          "base_uri": "https://localhost:8080/"
        },
        "id": "GPyQVUf4Hhbv",
        "outputId": "56483930-db15-4fff-a009-9e5032a93b6f"
      },
      "execution_count": null,
      "outputs": [
        {
          "output_type": "stream",
          "name": "stdout",
          "text": [
            "а может руки под simintech заточены и жего водь.\n",
            "В услебми\n",
            "в груза\n",
            "в разу товал\n",
            "на соморовась пыли.\n",
            "В руда простонный маринием не прикаженького в провой,\n",
            "мачям\n",
            "покожет постованики,\n",
            "дами.\n",
            "Деренься метре,\n",
            "на набонить —\n",
            "раз маста велова\n",
            "и на критали\n",
            "со размает воголов,\n",
            "был в тома —\n",
            "не вородной веселелься,\n",
            "на забодной крестьят\n",
            "в городется водная\n",
            "не вам отворавите в проста.\n",
            "В простовый желусь,\n",
            "простон нам гороб,\n",
            "побезним лить,\n",
            "доборо\n",
            "мето не в повержали —\n",
            "все в запонповал\n",
            "воз свалим соварись.\n",
            "Мохочили\n",
            "порастите умети\n",
            "и станы залон.\n",
            "Так старит на сказить с удот\n",
            "востом проковарина\n",
            "подногвеня простом как цереров\n",
            "развернейской дуча.\n",
            "Как и товарие —\n",
            "сторит\n",
            "погод водами как азадной узоры,\n",
            "и вот моска города в тором кором.\n",
            "Постаны работа\n",
            "прасвет самов\n",
            "водовали.\n",
            "Корастело,\n",
            "на пот\n"
          ]
        }
      ]
    },
    {
      "cell_type": "code",
      "source": [
        "print(generate_sample(best_model, char2id, id2char, seed_phrase=SEED_PHRASE, strategy=nice_strategy, max_length=MAXLEN, temperature=0.1))"
      ],
      "metadata": {
        "colab": {
          "base_uri": "https://localhost:8080/"
        },
        "id": "9Dd7XOnTHj8x",
        "outputId": "6f8269e8-240d-4372-884f-61a50b05740e"
      },
      "execution_count": null,
      "outputs": [
        {
          "output_type": "stream",
          "name": "stdout",
          "text": [
            "а может руки под simintech заточены.\n",
            "В стали в стали в стали в стали.\n",
            "В под на стали в стали —\n",
            "в стали в стали,\n",
            "в стали в стали в стали —\n",
            "на стали в под на стали в стали в стали\n",
            "в стали в стали —\n",
            "на стали в стали —\n",
            "на стали в под замания в стали в стали.\n",
            "На стали в стали в стали\n",
            "в стали в стали в стали.\n",
            "Не в стали в стали в стали в стали в стали.\n",
            "В стали в стали в стали.\n",
            "В стали в стали\n",
            "в стали в под под на стали,\n",
            "на вода —\n",
            "на советский стали —\n",
            "не в стали в стали,\n",
            "в стали в стали в подверет —\n",
            "на стали в совет\n",
            "под стали в старина.\n",
            "Под водов\n",
            "и в стали —\n",
            "на стали в под советский восторовать соворова.\n",
            "На свое стали,\n",
            "и в стали в стали,\n",
            "и в стали в стали в стали\n",
            "в стали в стали в стали,\n",
            "в стали в стали —\n",
            "на стали в стали —\n",
            "на стали в под стали.\n",
            "Волода —\n",
            "в стали в стали в с\n"
          ]
        }
      ]
    },
    {
      "cell_type": "code",
      "source": [
        "!pip install -q transformers[torch]"
      ],
      "metadata": {
        "colab": {
          "base_uri": "https://localhost:8080/"
        },
        "id": "_KoSqFGtHwhg",
        "outputId": "24ead24f-323b-4a2a-f413-7401302f459c"
      },
      "execution_count": null,
      "outputs": [
        {
          "output_type": "stream",
          "name": "stdout",
          "text": [
            "\u001b[2K   \u001b[90m━━━━━━━━━━━━━━━━━━━━━━━━━━━━━━━━━━━━━━━━\u001b[0m \u001b[32m363.4/363.4 MB\u001b[0m \u001b[31m4.4 MB/s\u001b[0m eta \u001b[36m0:00:00\u001b[0m\n",
            "\u001b[2K   \u001b[90m━━━━━━━━━━━━━━━━━━━━━━━━━━━━━━━━━━━━━━━━\u001b[0m \u001b[32m13.8/13.8 MB\u001b[0m \u001b[31m104.9 MB/s\u001b[0m eta \u001b[36m0:00:00\u001b[0m\n",
            "\u001b[2K   \u001b[90m━━━━━━━━━━━━━━━━━━━━━━━━━━━━━━━━━━━━━━━━\u001b[0m \u001b[32m24.6/24.6 MB\u001b[0m \u001b[31m94.4 MB/s\u001b[0m eta \u001b[36m0:00:00\u001b[0m\n",
            "\u001b[2K   \u001b[90m━━━━━━━━━━━━━━━━━━━━━━━━━━━━━━━━━━━━━━━━\u001b[0m \u001b[32m883.7/883.7 kB\u001b[0m \u001b[31m53.5 MB/s\u001b[0m eta \u001b[36m0:00:00\u001b[0m\n",
            "\u001b[2K   \u001b[90m━━━━━━━━━━━━━━━━━━━━━━━━━━━━━━━━━━━━━━━━\u001b[0m \u001b[32m664.8/664.8 MB\u001b[0m \u001b[31m2.1 MB/s\u001b[0m eta \u001b[36m0:00:00\u001b[0m\n",
            "\u001b[2K   \u001b[90m━━━━━━━━━━━━━━━━━━━━━━━━━━━━━━━━━━━━━━━━\u001b[0m \u001b[32m211.5/211.5 MB\u001b[0m \u001b[31m6.8 MB/s\u001b[0m eta \u001b[36m0:00:00\u001b[0m\n",
            "\u001b[2K   \u001b[90m━━━━━━━━━━━━━━━━━━━━━━━━━━━━━━━━━━━━━━━━\u001b[0m \u001b[32m56.3/56.3 MB\u001b[0m \u001b[31m15.0 MB/s\u001b[0m eta \u001b[36m0:00:00\u001b[0m\n",
            "\u001b[2K   \u001b[90m━━━━━━━━━━━━━━━━━━━━━━━━━━━━━━━━━━━━━━━━\u001b[0m \u001b[32m127.9/127.9 MB\u001b[0m \u001b[31m7.8 MB/s\u001b[0m eta \u001b[36m0:00:00\u001b[0m\n",
            "\u001b[2K   \u001b[90m━━━━━━━━━━━━━━━━━━━━━━━━━━━━━━━━━━━━━━━━\u001b[0m \u001b[32m207.5/207.5 MB\u001b[0m \u001b[31m6.3 MB/s\u001b[0m eta \u001b[36m0:00:00\u001b[0m\n",
            "\u001b[2K   \u001b[90m━━━━━━━━━━━━━━━━━━━━━━━━━━━━━━━━━━━━━━━━\u001b[0m \u001b[32m21.1/21.1 MB\u001b[0m \u001b[31m31.6 MB/s\u001b[0m eta \u001b[36m0:00:00\u001b[0m\n",
            "\u001b[?25h"
          ]
        }
      ]
    },
    {
      "cell_type": "code",
      "source": [
        "import locale\n",
        "import torch\n",
        "import transformers\n",
        "import numpy as np\n",
        "\n",
        "from warnings import simplefilter\n",
        "from IPython.display import clear_output\n",
        "from transformers import Trainer, TrainingArguments\n",
        "from transformers import GPT2LMHeadModel, GPT2Tokenizer\n",
        "from transformers import TextDataset, DataCollatorForLanguageModeling"
      ],
      "metadata": {
        "id": "_qhK4VfYH0AO"
      },
      "execution_count": null,
      "outputs": []
    },
    {
      "cell_type": "code",
      "source": [
        "#  Задаем некоторые настроечные параметры касательно кодировки и отображения предупреждений\n",
        "locale.getpreferredencoding = lambda: \"UTF-8\"\n",
        "simplefilter(\"ignore\", category=FutureWarning)\n",
        "transformers.logging.set_verbosity_error()"
      ],
      "metadata": {
        "id": "n06KyoMXH1k3"
      },
      "execution_count": null,
      "outputs": []
    },
    {
      "cell_type": "code",
      "source": [
        "device = torch.device(\"cuda\" if torch.cuda.is_available() else \"cpu\")\n",
        "\n",
        "model_name = \"sberbank-ai/rugpt3small_based_on_gpt2\"  # Опередлим, какой моделью будем пользоваться\n",
        "tokenizer = GPT2Tokenizer.from_pretrained(model_name)  # Определим токенайзер для нашего текста\n",
        "model = GPT2LMHeadModel.from_pretrained(model_name).to(device) # Загрузим предобученную модель трансформера rugpt3small от Сбера\n",
        "\n",
        "clear_output()"
      ],
      "metadata": {
        "id": "7pwAI-rVH2o1"
      },
      "execution_count": null,
      "outputs": []
    },
    {
      "cell_type": "code",
      "source": [
        "SEED_PHRASE = 'а может руки заточены под simintech, потому что,'\n",
        "input_ids = tokenizer.encode(SEED_PHRASE, return_tensors=\"pt\").to(device)\n",
        "out = model.generate(input_ids, do_sample=False, max_length=20)\n",
        "\n",
        "generated_text = list(map(tokenizer.decode, out))[0]\n",
        "\n",
        "print(generated_text) #Так работает предобученный трансформер"
      ],
      "metadata": {
        "colab": {
          "base_uri": "https://localhost:8080/"
        },
        "id": "hmzn71DtH_YF",
        "outputId": "090fa099-130e-4e5f-e529-dcc53e470cd4"
      },
      "execution_count": null,
      "outputs": [
        {
          "output_type": "stream",
          "name": "stdout",
          "text": [
            "а может руки заточены под simintech, потому что, как я уже говорил, у меня\n"
          ]
        }
      ]
    },
    {
      "cell_type": "code",
      "source": [
        "train_path = \"train_dataset.txt\"\n",
        "\n",
        "with open(\"poems.txt\", encoding=\"utf-8\") as file:\n",
        "  data = file.read().split(\"</s>\\n\\n\")\n",
        "\n",
        "with open(train_path, mode=\"w\", encoding=\"utf-8\") as f:\n",
        "    f.write(\"\".join(data))"
      ],
      "metadata": {
        "id": "6B_c2YhDIY69"
      },
      "execution_count": null,
      "outputs": []
    },
    {
      "cell_type": "code",
      "source": [
        "train_dataset = TextDataset(tokenizer=tokenizer, file_path=train_path, block_size=128) # Создание датасета\n",
        "data_collator = DataCollatorForLanguageModeling(tokenizer=tokenizer, mlm=False) # Создание даталодера (нарезает текст на оптимальные по длине куски)"
      ],
      "metadata": {
        "id": "8f7iSuFVIa3v"
      },
      "execution_count": null,
      "outputs": []
    },
    {
      "cell_type": "code",
      "source": [
        "training_args = TrainingArguments(\n",
        "    output_dir=\"./finetuned\",\n",
        "    overwrite_output_dir=True,\n",
        "    num_train_epochs=15,\n",
        "    per_device_train_batch_size=32,\n",
        "    per_device_eval_batch_size=32,\n",
        "    warmup_steps=10,                    # рекомендованные значения (warmup_steps нужен для \"разогрева\" сети, c его помощью learning rate постепенно увеличивается до заданного значения)\n",
        "    gradient_accumulation_steps=16,     # рекомендованные значения\n",
        ")\n",
        "#(обычно мы хотим положить батч по-больше, чтобы сеть побыстрей сошлась, но мы ограничены памятью gpu, gradient_accumulation_steps накапливает (суммирует или усредняет) градиенты за прогон на 16 батчах )\n",
        "\n",
        "trainer = Trainer(\n",
        "    model=model,\n",
        "    args=training_args,\n",
        "    data_collator=data_collator,\n",
        "    train_dataset=train_dataset,\n",
        "    optimizers=(\n",
        "        torch.optim.AdamW(model.parameters(), lr=1e-5), # рекомендованные значения\n",
        "        None,\n",
        "    ),\n",
        ")"
      ],
      "metadata": {
        "id": "l8_kA5gTIcPA"
      },
      "execution_count": null,
      "outputs": []
    },
    {
      "cell_type": "code",
      "source": [
        "output = trainer.train()"
      ],
      "metadata": {
        "colab": {
          "base_uri": "https://localhost:8080/",
          "height": 332
        },
        "id": "ScwMV_yrId4y",
        "outputId": "ac4a32e8-d478-44e7-8140-7c9f51ef0f4a"
      },
      "execution_count": null,
      "outputs": [
        {
          "output_type": "stream",
          "name": "stderr",
          "text": [
            "\u001b[34m\u001b[1mwandb\u001b[0m: \u001b[33mWARNING\u001b[0m The `run_name` is currently set to the same value as `TrainingArguments.output_dir`. If this was not intended, please specify a different run name by setting the `TrainingArguments.run_name` parameter.\n",
            "\u001b[34m\u001b[1mwandb\u001b[0m: Using wandb-core as the SDK backend.  Please refer to https://wandb.me/wandb-core for more information.\n"
          ]
        },
        {
          "output_type": "display_data",
          "data": {
            "text/plain": [
              "<IPython.core.display.Javascript object>"
            ],
            "application/javascript": [
              "\n",
              "        window._wandbApiKey = new Promise((resolve, reject) => {\n",
              "            function loadScript(url) {\n",
              "            return new Promise(function(resolve, reject) {\n",
              "                let newScript = document.createElement(\"script\");\n",
              "                newScript.onerror = reject;\n",
              "                newScript.onload = resolve;\n",
              "                document.body.appendChild(newScript);\n",
              "                newScript.src = url;\n",
              "            });\n",
              "            }\n",
              "            loadScript(\"https://cdn.jsdelivr.net/npm/postmate/build/postmate.min.js\").then(() => {\n",
              "            const iframe = document.createElement('iframe')\n",
              "            iframe.style.cssText = \"width:0;height:0;border:none\"\n",
              "            document.body.appendChild(iframe)\n",
              "            const handshake = new Postmate({\n",
              "                container: iframe,\n",
              "                url: 'https://wandb.ai/authorize'\n",
              "            });\n",
              "            const timeout = setTimeout(() => reject(\"Couldn't auto authenticate\"), 5000)\n",
              "            handshake.then(function(child) {\n",
              "                child.on('authorize', data => {\n",
              "                    clearTimeout(timeout)\n",
              "                    resolve(data)\n",
              "                });\n",
              "            });\n",
              "            })\n",
              "        });\n",
              "    "
            ]
          },
          "metadata": {}
        },
        {
          "output_type": "stream",
          "name": "stderr",
          "text": [
            "\u001b[34m\u001b[1mwandb\u001b[0m: Logging into wandb.ai. (Learn how to deploy a W&B server locally: https://wandb.me/wandb-server)\n",
            "\u001b[34m\u001b[1mwandb\u001b[0m: You can find your API key in your browser here: https://wandb.ai/authorize\n",
            "wandb: Paste an API key from your profile and hit enter:"
          ]
        },
        {
          "name": "stdout",
          "output_type": "stream",
          "text": [
            " ··········\n"
          ]
        },
        {
          "output_type": "stream",
          "name": "stderr",
          "text": [
            "\u001b[34m\u001b[1mwandb\u001b[0m: \u001b[33mWARNING\u001b[0m If you're specifying your api key in code, ensure this code is not shared publicly.\n",
            "\u001b[34m\u001b[1mwandb\u001b[0m: \u001b[33mWARNING\u001b[0m Consider setting the WANDB_API_KEY environment variable, or running `wandb login` from the command line.\n",
            "\u001b[34m\u001b[1mwandb\u001b[0m: No netrc file found, creating one.\n",
            "\u001b[34m\u001b[1mwandb\u001b[0m: Appending key for api.wandb.ai to your netrc file: /root/.netrc\n",
            "\u001b[34m\u001b[1mwandb\u001b[0m: Currently logged in as: \u001b[33mlinotika666\u001b[0m (\u001b[33mlinotika666-mpei\u001b[0m) to \u001b[32mhttps://api.wandb.ai\u001b[0m. Use \u001b[1m`wandb login --relogin`\u001b[0m to force relogin\n"
          ]
        },
        {
          "output_type": "display_data",
          "data": {
            "text/plain": [
              "<IPython.core.display.HTML object>"
            ],
            "text/html": [
              "Tracking run with wandb version 0.19.9"
            ]
          },
          "metadata": {}
        },
        {
          "output_type": "display_data",
          "data": {
            "text/plain": [
              "<IPython.core.display.HTML object>"
            ],
            "text/html": [
              "Run data is saved locally in <code>/content/wandb/run-20250424_045107-144jeg0b</code>"
            ]
          },
          "metadata": {}
        },
        {
          "output_type": "display_data",
          "data": {
            "text/plain": [
              "<IPython.core.display.HTML object>"
            ],
            "text/html": [
              "Syncing run <strong><a href='https://wandb.ai/linotika666-mpei/huggingface/runs/144jeg0b' target=\"_blank\">./finetuned</a></strong> to <a href='https://wandb.ai/linotika666-mpei/huggingface' target=\"_blank\">Weights & Biases</a> (<a href='https://wandb.me/developer-guide' target=\"_blank\">docs</a>)<br>"
            ]
          },
          "metadata": {}
        },
        {
          "output_type": "display_data",
          "data": {
            "text/plain": [
              "<IPython.core.display.HTML object>"
            ],
            "text/html": [
              " View project at <a href='https://wandb.ai/linotika666-mpei/huggingface' target=\"_blank\">https://wandb.ai/linotika666-mpei/huggingface</a>"
            ]
          },
          "metadata": {}
        },
        {
          "output_type": "display_data",
          "data": {
            "text/plain": [
              "<IPython.core.display.HTML object>"
            ],
            "text/html": [
              " View run at <a href='https://wandb.ai/linotika666-mpei/huggingface/runs/144jeg0b' target=\"_blank\">https://wandb.ai/linotika666-mpei/huggingface/runs/144jeg0b</a>"
            ]
          },
          "metadata": {}
        },
        {
          "output_type": "stream",
          "name": "stdout",
          "text": [
            "{'train_runtime': 1087.6989, 'train_samples_per_second': 33.801, 'train_steps_per_second': 0.055, 'train_loss': 4.707845560709635, 'epoch': 14.831168831168831}\n"
          ]
        }
      ]
    },
    {
      "cell_type": "code",
      "source": [
        "print('perplexity: ', np.exp(output.training_loss)) #расчет перплексии"
      ],
      "metadata": {
        "colab": {
          "base_uri": "https://localhost:8080/"
        },
        "id": "_hLaCpCWOlO3",
        "outputId": "6929cc39-fdf9-44f4-fa6a-4517aba0e32c"
      },
      "execution_count": null,
      "outputs": [
        {
          "output_type": "stream",
          "name": "stdout",
          "text": [
            "perplexity:  110.81316231446331\n"
          ]
        }
      ]
    },
    {
      "cell_type": "markdown",
      "source": [
        "#Вопрос 10¶\n",
        "\n",
        "Какое значение перплексии получилось у трансформера? 110.81\n",
        "\n",
        "Какое значение перплексии получалось у рекуррентной сети?10.174\n",
        "\n",
        "Почему у рекуррентной сети значение было существенно ниже, но качество текстов хуже? Почему нельзя сравнивать значения для рекуррентной сети и трансформера?\n",
        " Рекуррентная сеть показала лучшее значение перплексии, но качество текстов хуже из-за её ограниченной способности учитывать долгосрочные зависимости. Сравнивать значения напрямую нельзя, так как архитектуры используют разные подходы к обработке данных."
      ],
      "metadata": {
        "id": "SEORumekJNcw"
      }
    },
    {
      "cell_type": "code",
      "source": [
        "SEED_PHRASE = \"а может руки заточены под simintech, потому что\"\n",
        "input_ids = tokenizer.encode(SEED_PHRASE, return_tensors=\"pt\").to(device)\n",
        "model.eval()\n",
        "with torch.no_grad():\n",
        "    out = model.generate(\n",
        "        input_ids,\n",
        "        do_sample=True, # sample strategy\n",
        "        temperature=1.0,\n",
        "        max_length=256,\n",
        "        pad_token_id=512 # указываем id <PAD> токена\n",
        "    )\n",
        "\n",
        "generated_text = list(map(tokenizer.decode, out))[0]\n",
        "print()\n",
        "print(generated_text)"
      ],
      "metadata": {
        "colab": {
          "base_uri": "https://localhost:8080/"
        },
        "id": "9W25KULiIflt",
        "outputId": "33bed2de-3af0-4edd-d72a-3bbcff3da2ef"
      },
      "execution_count": null,
      "outputs": [
        {
          "output_type": "stream",
          "name": "stdout",
          "text": [
            "\n",
            "а может руки заточены под simintech, потому что у нас — симпотные,\n",
            "говорит:\n",
            "— А это что такое?\n",
            "— Электрическая печь!\n",
            "— У нас и печь есть,\n",
            "и уголь.\n",
            "А это что такое?\n",
            "— Смешные вы,\n",
            "и не говорите.\n",
            "— А что такое?\n",
            "— Электрическая работа!\n",
            "— Разве в машинных цехах\n",
            "электрическая работа?\n",
            "— Полежит еще, а то и не сработает.\n",
            "Мы вас не пустим, мы вам на руки положим.\n",
            "\n",
            "Радиаторы не надо ставить.\n",
            "Массары не надо.\n",
            "Кататься,\n",
            "крутя педали,\n",
            "деревянные колеса.\n",
            "Кататься надо,\n",
            "дрожать,\n",
            "зимой\n",
            "не ездить.\n",
            "Бороться нужно,\n",
            "с жизнью бороться.\n",
            "\n",
            "\n",
            "А вы не думайте,\n",
            "что я\n",
            "разносчик,\n",
            "я\n",
            "помогаю вам\n",
            "в трудную минуту.\n",
            "Если\n",
            "помогают,\n",
            "говорите о работе.\n",
            "Только\n",
            "за работой\n",
            "и работайте.\n",
            "— Милый,\n",
            "забери меня\n"
          ]
        }
      ]
    },
    {
      "cell_type": "code",
      "source": [
        "SEED_PHRASE =\"а может руки заточены под simintech, потому что\"\n",
        "input_ids = tokenizer.encode(SEED_PHRASE, return_tensors=\"pt\").to(device)\n",
        "model.eval()\n",
        "with torch.no_grad():\n",
        "    out = model.generate(\n",
        "        input_ids,\n",
        "        do_sample=True, # sample strategy\n",
        "        temperature=1.0,\n",
        "        max_length=128,\n",
        "        pad_token_id=512 # указываем id <PAD> токена\n",
        "    )\n",
        "\n",
        "generated_text = list(map(tokenizer.decode, out))[0]\n",
        "print()\n",
        "print(generated_text)"
      ],
      "metadata": {
        "colab": {
          "base_uri": "https://localhost:8080/"
        },
        "id": "bwtKlaD5I8g2",
        "outputId": "03f01e27-38cf-46be-8234-c9589c2e9f3f"
      },
      "execution_count": null,
      "outputs": [
        {
          "output_type": "stream",
          "name": "stdout",
          "text": [
            "\n",
            "а может руки заточены под simintech, потому что в эти руки,\n",
            "где и сердце, и грудь,\n",
            "взято\n",
            "любимое,\n",
            "любимое!\n",
            "Ибо\n",
            "вызовут —\n",
            "и в ответ —\n",
            "вдруг;\n",
            "и мы\n",
            "подарят —\n",
            "любимый!\n",
            "Скажи же\n",
            "мне,\n",
            "кто в ней\n",
            "любит,\n",
            "кто в ней смеется не слишком часто:\n",
            "любит —\n",
            "и в этом году\n",
            "нет.\n",
            "Грози\n",
            "избежать?\n",
            "Не дождетесь!\n",
            "Навсегда —\n",
            "только\n",
            "любовь.\n",
            "Я\n"
          ]
        }
      ]
    },
    {
      "cell_type": "markdown",
      "source": [
        "#Вопрос 11¶\n",
        "\n",
        "Проверьте работу ячейки выше для разных стартовых фраз и разных параметров temperature, max_length, do_sample и объясните, за что отвечает каждый из параметров. Подберите (субъективно) лучшие\n",
        "\n",
        "Параметр temperature регулирует случайность выбора символов, max_length определяет максимальную длину текста, do_sample выбирает стратегию генерации (\"greedy\" или \"sample\"). Лучшие параметры: temperature=1.0, max_length=128, do_sample=True."
      ],
      "metadata": {
        "id": "sxcuk38BJcPF"
      }
    },
    {
      "cell_type": "code",
      "source": [
        "SEED_PHRASE =\"а может руки заточены под simintech, потому что\"\n",
        "input_ids = tokenizer.encode(SEED_PHRASE, return_tensors=\"pt\").to(device)\n",
        "model.eval()\n",
        "with torch.no_grad():\n",
        "    out = model.generate(\n",
        "        input_ids,\n",
        "        do_sample=False, # sample strategy\n",
        "        temperature=1.0,\n",
        "        max_length=128,\n",
        "        pad_token_id=512 # указываем id <PAD> токена\n",
        "    )\n",
        "\n",
        "generated_text = list(map(tokenizer.decode, out))[0]\n",
        "print()\n",
        "print(generated_text)"
      ],
      "metadata": {
        "colab": {
          "base_uri": "https://localhost:8080/"
        },
        "id": "CvoTNoi-I6Cf",
        "outputId": "6c4c3547-fd86-4172-f686-a24fcfe2c398"
      },
      "execution_count": null,
      "outputs": [
        {
          "output_type": "stream",
          "name": "stdout",
          "text": [
            "\n",
            "а может руки заточены под simintech, потому что в ней\n",
            "не только\n",
            "всё\n",
            "всё\n",
            "всё\n",
            "всё\n",
            "всё\n",
            "всё\n",
            "всё\n",
            "всё\n",
            "всё\n",
            "всё\n",
            "всё\n",
            "всё\n",
            "всё\n",
            "всё\n",
            "всё\n",
            "всё\n",
            "всё\n",
            "всё\n",
            "всё\n",
            "всё\n",
            "всё\n",
            "всё\n",
            "всё\n",
            "всё\n",
            "всё\n",
            "всё\n",
            "всё\n",
            "всё\n",
            "всё\n",
            "всё\n",
            "всё\n",
            "всё\n",
            "всё\n",
            "всё\n",
            "всё\n",
            "всё\n",
            "всё\n"
          ]
        }
      ]
    },
    {
      "cell_type": "code",
      "source": [
        "SEED_PHRASE =\"а может руки заточены под simintech, потому что\"\n",
        "input_ids = tokenizer.encode(SEED_PHRASE, return_tensors=\"pt\").to(device)\n",
        "model.eval()\n",
        "with torch.no_grad():\n",
        "    out = model.generate(\n",
        "        input_ids,\n",
        "        do_sample=True, # sample strategy\n",
        "        temperature=1.5,\n",
        "        max_length=128,\n",
        "        pad_token_id=512 # указываем id <PAD> токена\n",
        "    )\n",
        "\n",
        "generated_text = list(map(tokenizer.decode, out))[0]\n",
        "print()\n",
        "print(generated_text)"
      ],
      "metadata": {
        "colab": {
          "base_uri": "https://localhost:8080/"
        },
        "id": "dZG51f9XJT9f",
        "outputId": "e4ed8d1f-3083-42bf-efc8-8d42540a4386"
      },
      "execution_count": null,
      "outputs": [
        {
          "output_type": "stream",
          "name": "stdout",
          "text": [
            "\n",
            "а может руки заточены под simintech, потому что они такие — мало ли чего,\n",
            "даже и самого обычного: что за беда, когда у нас\n",
            "крючок для булавок…\n",
            "\n",
            "А это — вот какой!\n",
            "Подушками-подачам.\n",
            "Это на кой.\n",
            "Вот эта,\n",
            "на которой\n",
            "неприятно\n",
            "мебельщикам рычать (впрочем, когда не брезгую\n",
            "взъерошив, кряхтя,\n",
            "ушастая)\n",
            "и на кой,\n",
            "на этой\n",
            "нуднее,\n",
            "а вот этот, издел\n"
          ]
        }
      ]
    },
    {
      "cell_type": "code",
      "source": [
        "SEED_PHRASE =\"а может руки заточены под simintech, потому что\"\n",
        "input_ids = tokenizer.encode(SEED_PHRASE, return_tensors=\"pt\").to(device)\n",
        "model.eval()\n",
        "with torch.no_grad():\n",
        "    out = model.generate(\n",
        "        input_ids,\n",
        "        do_sample=False,\n",
        "        max_new_tokens=75,\n",
        "        no_repeat_ngram_size=3, # устанавливает вероятность 0 для повторяющихся n-gram (таким образом решается проблема зацикливания)\n",
        "        pad_token_id=512,\n",
        "        num_beams=5,\n",
        "        num_return_sequences=5,  # количество возвращенных сгенерированных текстов отранжированных по вероятности после beam_search\n",
        "        top_p=0.9, #<your choice here>\n",
        "        top_k=20, #<your choice here>\n",
        "        temperature=2.0 #<your choice here>\n",
        "    )\n",
        "\n",
        "generated_text = list(map(tokenizer.decode, out))"
      ],
      "metadata": {
        "id": "eRPCNdubJkHt"
      },
      "execution_count": null,
      "outputs": []
    },
    {
      "cell_type": "code",
      "source": [
        "# Выведем _num_return_sequences_ сгенерированных текстов\n",
        "for i, seq in enumerate(generated_text):\n",
        "  print(f\"Applicant {i}\", seq, \"\\n\", sep=\"\\n\")"
      ],
      "metadata": {
        "colab": {
          "base_uri": "https://localhost:8080/"
        },
        "id": "O7Ye5rNPJqEP",
        "outputId": "d000cced-73e1-4578-b1d9-1f31bfc17c33"
      },
      "execution_count": null,
      "outputs": [
        {
          "output_type": "stream",
          "name": "stdout",
          "text": [
            "Applicant 0\n",
            "а может руки заточены под simintech, потому что он —\n",
            "сверхчеловек.\n",
            "\n",
            "\n",
            "И вот,\n",
            "взяли мы\n",
            "с собой\n",
            "сумку,\n",
            "а в ней —\n",
            "всё,\n",
            "что у нас есть,\n",
            "и всё, что у них есть.\n",
            "И мы\n",
            "вместе\n",
            "с ними\n",
            "снимаем\n",
            "с себя\n",
            "смычки.\n",
            "Мы —\n",
            "\n",
            "\n",
            "\n",
            "Applicant 1\n",
            "а может руки заточены под simintech, потому что он —\n",
            "сверхчеловек.\n",
            "\n",
            "\n",
            "И вот,\n",
            "взяли мы\n",
            "с собой\n",
            "сумку,\n",
            "а в ней —\n",
            "всё,\n",
            "что у нас есть,\n",
            "и всё, что у них есть.\n",
            "И мы\n",
            "вместе\n",
            "с ними\n",
            "снимаем\n",
            "с себя\n",
            "смычки.\n",
            "Мы\n",
            "с\n",
            "\n",
            "\n",
            "Applicant 2\n",
            "а может руки заточены под simintech, потому что он —\n",
            "сверхчеловек.\n",
            "\n",
            "\n",
            "И вот,\n",
            "взяли мы\n",
            "с собой\n",
            "сумку,\n",
            "а в ней —\n",
            "всё,\n",
            "что у нас есть,\n",
            "и всё, что у них есть.\n",
            "И мы\n",
            "вместе\n",
            "с ними\n",
            "снимаем\n",
            "с себя\n",
            "смычки.\n",
            "Мы\n",
            "в\n",
            "\n",
            "\n",
            "Applicant 3\n",
            "а может руки заточены под simintech, потому что он —\n",
            "сверхчеловек.\n",
            "\n",
            "\n",
            "И вот,\n",
            "взяли мы\n",
            "с собой\n",
            "сумку,\n",
            "а в ней —\n",
            "всё,\n",
            "что у нас есть,\n",
            "и всё, что у них есть.\n",
            "И мы\n",
            "вместе\n",
            "с ними\n",
            "снимаем\n",
            "с себя\n",
            "смычки.\n",
            "А потом\n",
            "\n",
            "\n",
            "\n",
            "Applicant 4\n",
            "а может руки заточены под simintech, потому что он —\n",
            "сверхчеловек.\n",
            "\n",
            "\n",
            "И вот,\n",
            "взяли мы\n",
            "с собой\n",
            "сумку,\n",
            "а в ней —\n",
            "всё,\n",
            "что у нас есть,\n",
            "и всё, что у них есть.\n",
            "И мы\n",
            "вместе\n",
            "с ними\n",
            "снимаем\n",
            "с себя\n",
            "смычки,\n",
            "связки\n",
            "\n",
            "\n"
          ]
        }
      ]
    },
    {
      "cell_type": "code",
      "source": [
        "SEED_PHRASE =\"а может руки заточены под simintech, потому что\"\n",
        "input_ids = tokenizer.encode(SEED_PHRASE, return_tensors=\"pt\").to(device)\n",
        "model.eval()\n",
        "\n",
        "top_p_values = [0.75, 0.9, 1.05]\n",
        "top_k_values = [10, 20]\n",
        "\n",
        "for top_p in top_p_values:\n",
        "    for top_k in top_k_values:\n",
        "        print(f\"\\n--- top_p = {top_p}, top_k = {top_k} ---\")\n",
        "        with torch.no_grad():\n",
        "            out = model.generate(\n",
        "                input_ids,\n",
        "                do_sample=True,\n",
        "                max_new_tokens=75,\n",
        "                no_repeat_ngram_size=3,\n",
        "                pad_token_id=512,\n",
        "                num_beams=1,\n",
        "                num_return_sequences=1,\n",
        "                top_p=top_p,\n",
        "                top_k=top_k,\n",
        "                temperature=0.9\n",
        "            )\n",
        "        generated_text = tokenizer.decode(out[0], skip_special_tokens=True)\n",
        "        print(generated_text)"
      ],
      "metadata": {
        "colab": {
          "base_uri": "https://localhost:8080/"
        },
        "id": "zqjHIltxJqlE",
        "outputId": "02c33b6f-46cb-47f5-e4f2-cfa4dd925462"
      },
      "execution_count": null,
      "outputs": [
        {
          "output_type": "stream",
          "name": "stdout",
          "text": [
            "\n",
            "--- top_p = 0.75, top_k = 10 ---\n",
            "а может руки заточены под simintech, потому что это — не шутка.\n",
            "\n",
            "\n",
            "В этом году я был в Лондоне.\n",
            "На следующий день я был уже в Париже.\n",
            "Я ехал на поезде в Лондон,\n",
            "на котором\n",
            "несколько дней\n",
            "съездил\n",
            "на Восток.\n",
            "А в Париже\n",
            "не успел я\n",
            "заехать в Париж,\n",
            "как\n",
            "я\n",
            "нашел\n",
            "в гостинице\n",
            "\n",
            "\n",
            "--- top_p = 0.75, top_k = 20 ---\n",
            "а может руки заточены под simintech, потому что она у него\n",
            "похожа на\n",
            "машину\n",
            "в смысле\n",
            "вроде\n",
            "квадрата\n",
            "на три.\n",
            "А на самом деле\n",
            "кроха\n",
            "на двух.\n",
            "Но если\n",
            "выпьют\n",
            "кока-колу,\n",
            "то\n",
            "на два,\n",
            "на четыре.\n",
            "\n",
            "\n",
            "А если\n",
            "поставят\n",
            "икру,\n",
            "\n",
            "--- top_p = 0.9, top_k = 10 ---\n",
            "а может руки заточены под simintech, потому что у меня не будет руки.\n",
            "И вот\n",
            "сделай,\n",
            "что я\n",
            "захотел.\n",
            "\n",
            "\n",
            "Я —\n",
            "всякий,\n",
            "кто\n",
            "выступает\n",
            "из публики\n",
            "и\n",
            "встает\n",
            "в дверях\n",
            "у входа в театр.\n",
            "Я\n",
            "зашел в театр\n",
            "из-за стола,\n",
            "с которым я сидел,\n",
            "и\n",
            "\n",
            "--- top_p = 0.9, top_k = 20 ---\n",
            "а может руки заточены под simintech, потому что с точки зрения здравого смысла — это глупо.\n",
            "И это — только начало, а уже начинается.\n",
            "В этот вечер\n",
            "встречаются\n",
            "и не говорят,\n",
            "и даже не говорят.\n",
            "Но все\n",
            "не только\n",
            "на этом свете\n",
            "не знают,\n",
            "а знают и не подозревают.\n",
            "Потому что это —\n",
            "всё.\n",
            "Наше,\n",
            "\n",
            "\n",
            "--- top_p = 1.05, top_k = 10 ---\n",
            "а может руки заточены под simintech, потому что\n",
            "вместо\n",
            "плюща\n",
            "с неба\n",
            "навесь мир\n",
            "нависли\n",
            "в небе\n",
            "вокруг\n",
            "и с небес.\n",
            "Но\n",
            "и мы,\n",
            "и они в ответе.\n",
            "\n",
            "\n",
            "А\n",
            "сверху\n",
            "и снизу\n",
            "у нас\n",
            "всегда\n",
            "всё\n",
            "сравнимо.\n",
            "Смешно\n",
            "сделать\n",
            "э\n",
            "\n",
            "--- top_p = 1.05, top_k = 20 ---\n",
            "а может руки заточены под simintech, потому что это\n",
            "выдумка.\n",
            "\n",
            "\n",
            "Самим\n",
            "собой\n",
            "невозможно\n",
            "обойтись —\n",
            "внутри\n",
            "есть\n",
            "сверл\n",
            "и резьба, и втулки,\n",
            "и ножницы,\n",
            "а\n",
            "заглянуть\n",
            "в их гнездо\n",
            "не может никак глаз,\n",
            "кроме\n",
            "непосредственного\n",
            "прохлеба,\n"
          ]
        }
      ]
    },
    {
      "cell_type": "markdown",
      "source": [
        "#Вопрос 12\n",
        "\n",
        "Вместо вывода добавьте лучший сгенерированый текст за лабораторную работу и напишите при какой архитектуре и при каких параметрах он получен:\n",
        "а может руки заточены под simintech, потому что у нас — симпотные,\n",
        "говорит:\n",
        "— А это что такое?\n",
        "— Электрическая печь!\n",
        "— У нас и печь есть,\n",
        "и уголь.\n",
        "А это что такое?\n",
        "— Смешные вы,\n",
        "и не говорите.\n",
        "— А что такое?\n",
        "— Электрическая работа!\n",
        "— Разве в машинных цехах\n",
        "электрическая работа?\n",
        "— Полежит еще, а то и не сработает.\n",
        "Мы вас не пустим, мы вам на руки положим.\n",
        "\n",
        "Радиаторы не надо ставить.\n",
        "Массары не надо.\n",
        "Кататься,\n",
        "крутя педали,\n",
        "деревянные колеса.\n",
        "Кататься надо,\n",
        "дрожать,\n",
        "зимой\n",
        "не ездить.\n",
        "Бороться нужно,\n",
        "с жизнью бороться.\n",
        "\n",
        "\n",
        "А вы не думайте,\n",
        "что я\n",
        "разносчик,\n",
        "я\n",
        "помогаю вам\n",
        "в трудную минуту.\n",
        "Если\n",
        "помогают,\n",
        "говорите о работе.\n",
        "Только\n",
        "за работой\n",
        "и работайте.\n",
        "— Милый,\n",
        "забери меня\n",
        "**Параметры:temperature=1.0, max_length=128, do_sample=True.**\n",
        "\n",
        "\n",
        "\n",
        "ИЛИ\n",
        "\n",
        "\n",
        "--- top_p = 0.75, top_k = 20 ---\n",
        "а может руки заточены под simintech, потому что она у него\n",
        "похожа на\n",
        "машину\n",
        "в смысле\n",
        "вроде\n",
        "квадрата\n",
        "на три.\n",
        "А на самом деле\n",
        "кроха\n",
        "на двух.\n",
        "Но если\n",
        "выпьют\n",
        "кока-колу,\n",
        "то\n",
        "на два,\n",
        "на четыре.\n",
        "\n",
        "\n",
        "А если\n",
        "поставят\n",
        "икру,\n"
      ],
      "metadata": {
        "id": "9PREfn1MJ6yF"
      }
    },
    {
      "cell_type": "code",
      "source": [],
      "metadata": {
        "id": "ulqSLF28JvsB"
      },
      "execution_count": null,
      "outputs": []
    }
  ]
}